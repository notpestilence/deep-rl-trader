{
 "cells": [
  {
   "cell_type": "markdown",
   "metadata": {
    "id": "NJuwlXZaX_E9"
   },
   "source": [
    "# 1. Importing Vaex\n",
    "\n",
    "Vaex is not automatically included with Google Colab. However, when I first installed it by `!pip install vaex` and imported it, I got the error:\n",
    "```python\n",
    "ContextualVersionConflict: (PyYAML 3.13 (/usr/local/lib/python3.7/dist-packages)\n",
    "Requirement.parse('PyYAML>=5.1; extra == \"standard\"'), {'uvicorn'}) \n",
    "```\n",
    "Turns out Google Colab is running a rather old version of IPython, therefore an upgrade is needed:\n",
    "```\n",
    "!pip install --upgrade ipython\n",
    "```\n",
    "Now the error is gone :)\n",
    "\n",
    "Note that we're adding `%%timeit` preceding every cell to underline how **quick** vaex is."
   ]
  },
  {
   "cell_type": "code",
   "execution_count": null,
   "metadata": {
    "colab": {
     "base_uri": "https://localhost:8080/",
     "height": 1000
    },
    "id": "A5m1kWHY45Zy",
    "outputId": "a957a444-804c-45e2-a848-3730afb629b1"
   },
   "outputs": [],
   "source": [
    "#!pip install --upgrade ipython\n",
    "#!pip install vaex\n",
    "# Uncomment 2 commands above when starting the notebook.\n",
    "# Restart is required after installing. Then you can comment them again."
   ]
  },
  {
   "cell_type": "code",
   "execution_count": 1,
   "metadata": {
    "id": "HaaYMa7jaWjJ"
   },
   "outputs": [],
   "source": [
    "from google.colab import drive\n",
    "import vaex\n",
    "vaex.multithreading.thread_count_default = 8\n",
    "import vaex.ml"
   ]
  },
  {
   "cell_type": "code",
   "execution_count": null,
   "metadata": {
    "colab": {
     "base_uri": "https://localhost:8080/"
    },
    "id": "nU6q4MOL_bIZ",
    "outputId": "f3f5bc80-a287-4bbb-8ec7-00b15ec99d5f"
   },
   "outputs": [],
   "source": [
    "#!unzip main.zip -d ./deep_rl_trader"
   ]
  },
  {
   "cell_type": "code",
   "execution_count": null,
   "metadata": {
    "colab": {
     "base_uri": "https://localhost:8080/"
    },
    "id": "dUKBND7uddBy",
    "outputId": "94eaaac9-d96c-4ba6-8530-267ad16a59c9"
   },
   "outputs": [],
   "source": [
    "%%time\n",
    "df = vaex.from_csv('###############.csv') # Load your data\n",
    "df.shape"
   ]
  },
  {
   "cell_type": "markdown",
   "metadata": {
    "id": "X4EXeAJAeZZP"
   },
   "source": [
    "Total: 78,562 datapoints (7142 x 11)\n",
    "\n",
    "# 2. Column Definitions\n",
    "As a good start, it cannot hurt to define some of the columns since it's not intuitive right away to non-technical readers.\n",
    "\n",
    "Let's first analyze what the columns are by calling `df` `vaex.dataframe.DataFrame` object."
   ]
  },
  {
   "cell_type": "code",
   "execution_count": 6,
   "metadata": {
    "colab": {
     "base_uri": "https://localhost:8080/",
     "height": 308
    },
    "id": "xsaJPSTefgx9",
    "outputId": "dca45df7-a753-4303-c01e-c36e42bd13f2"
   },
   "outputs": [
    {
     "name": "stdout",
     "output_type": "stream",
     "text": [
      "CPU times: user 2 µs, sys: 1e+03 ns, total: 3 µs\n",
      "Wall time: 5.48 µs\n"
     ]
    },
    {
     "data": {
      "text/html": [
       "<table>\n",
       "<thead>\n",
       "<tr><th>#                                </th><th>Date    </th><th>Time  </th><th>Open              </th><th>High              </th><th>Low               </th><th>Close             </th><th>RSI   </th><th>SMA(1)            </th><th>SMA(12)    </th><th>SMA(60)    </th><th>SMA(200)   </th></tr>\n",
       "</thead>\n",
       "<tbody>\n",
       "<tr><td><i style='opacity: 0.6'>0</i>    </td><td>20201109</td><td>30100 </td><td>0.65293           </td><td>0.65293           </td><td>0.65293           </td><td>0.65293           </td><td>0Bv   </td><td>0.65293           </td><td>0.652930bbb</td><td>0.652930bbb</td><td>0.652930bbb</td></tr>\n",
       "<tr><td><i style='opacity: 0.6'>1</i>    </td><td>20201109</td><td>30300 </td><td>0.65293           </td><td>0.65293           </td><td>0.65292           </td><td>0.65292           </td><td>0Bv   </td><td>0.65292           </td><td>0.652925abb</td><td>0.652925abb</td><td>0.652925abb</td></tr>\n",
       "<tr><td><i style='opacity: 0.6'>2</i>    </td><td>20201109</td><td>30400 </td><td>0.6530199999999999</td><td>0.6544300000000001</td><td>0.6530199999999999</td><td>0.65442           </td><td>0Bv   </td><td>0.65442           </td><td>0.653423bbb</td><td>0.653423bbb</td><td>0.653423bbb</td></tr>\n",
       "<tr><td><i style='opacity: 0.6'>3</i>    </td><td>20201109</td><td>30600 </td><td>0.6542100000000001</td><td>0.6543100000000001</td><td>0.6542100000000001</td><td>0.65425           </td><td>0Bv   </td><td>0.65425           </td><td>0.653630bbb</td><td>0.653630bbb</td><td>0.653630bbb</td></tr>\n",
       "<tr><td><i style='opacity: 0.6'>4</i>    </td><td>20201109</td><td>30700 </td><td>0.6542100000000001</td><td>0.65433           </td><td>0.65413           </td><td>0.65433           </td><td>0Bv   </td><td>0.65433           </td><td>0.653770bbb</td><td>0.653770bbb</td><td>0.653770bbb</td></tr>\n",
       "<tr><td>...                              </td><td>...     </td><td>...   </td><td>...               </td><td>...               </td><td>...               </td><td>...               </td><td>...   </td><td>...               </td><td>...        </td><td>...        </td><td>...        </td></tr>\n",
       "<tr><td><i style='opacity: 0.6'>7,137</i></td><td>20201114</td><td>25500 </td><td>0.6633899999999999</td><td>0.6634            </td><td>0.66328           </td><td>0.6632899999999999</td><td>31.41B</td><td>0.6632899999999999</td><td>0.663478abb</td><td>0.663568aab</td><td>0.663606aaa</td></tr>\n",
       "<tr><td><i style='opacity: 0.6'>7,138</i></td><td>20201114</td><td>25600 </td><td>0.6633            </td><td>0.6633100000000001</td><td>0.66322           </td><td>0.66327           </td><td>30.36B</td><td>0.66327           </td><td>0.663448abb</td><td>0.663561aab</td><td>0.663605aaa</td></tr>\n",
       "<tr><td><i style='opacity: 0.6'>7,139</i></td><td>20201114</td><td>25700 </td><td>0.66327           </td><td>0.6632899999999999</td><td>0.6632399999999999</td><td>0.66325           </td><td>29.3B </td><td>0.66325           </td><td>0.663411abb</td><td>0.663553aab</td><td>0.663604aaa</td></tr>\n",
       "<tr><td><i style='opacity: 0.6'>7,140</i></td><td>20201114</td><td>25800 </td><td>0.66325           </td><td>0.6632899999999999</td><td>0.66325           </td><td>0.66327           </td><td>31.86B</td><td>0.66327           </td><td>0.663385abb</td><td>0.663545aab</td><td>0.663602aaa</td></tr>\n",
       "<tr><td><i style='opacity: 0.6'>7,141</i></td><td>20201114</td><td>25900 </td><td>0.66327           </td><td>0.66328           </td><td>0.66323           </td><td>0.6632600000000001</td><td>31.25B</td><td>0.6632600000000001</td><td>0.663361abb</td><td>0.663533aab</td><td>0.663601aaa</td></tr>\n",
       "</tbody>\n",
       "</table>"
      ],
      "text/plain": [
       "#      Date      Time    Open                High                Low                 Close               RSI     SMA(1)              SMA(12)      SMA(60)      SMA(200)\n",
       "0      20201109  30100   0.65293             0.65293             0.65293             0.65293             0Bv     0.65293             0.652930bbb  0.652930bbb  0.652930bbb\n",
       "1      20201109  30300   0.65293             0.65293             0.65292             0.65292             0Bv     0.65292             0.652925abb  0.652925abb  0.652925abb\n",
       "2      20201109  30400   0.6530199999999999  0.6544300000000001  0.6530199999999999  0.65442             0Bv     0.65442             0.653423bbb  0.653423bbb  0.653423bbb\n",
       "3      20201109  30600   0.6542100000000001  0.6543100000000001  0.6542100000000001  0.65425             0Bv     0.65425             0.653630bbb  0.653630bbb  0.653630bbb\n",
       "4      20201109  30700   0.6542100000000001  0.65433             0.65413             0.65433             0Bv     0.65433             0.653770bbb  0.653770bbb  0.653770bbb\n",
       "...    ...       ...     ...                 ...                 ...                 ...                 ...     ...                 ...          ...          ...\n",
       "7,137  20201114  25500   0.6633899999999999  0.6634              0.66328             0.6632899999999999  31.41B  0.6632899999999999  0.663478abb  0.663568aab  0.663606aaa\n",
       "7,138  20201114  25600   0.6633              0.6633100000000001  0.66322             0.66327             30.36B  0.66327             0.663448abb  0.663561aab  0.663605aaa\n",
       "7,139  20201114  25700   0.66327             0.6632899999999999  0.6632399999999999  0.66325             29.3B   0.66325             0.663411abb  0.663553aab  0.663604aaa\n",
       "7,140  20201114  25800   0.66325             0.6632899999999999  0.66325             0.66327             31.86B  0.66327             0.663385abb  0.663545aab  0.663602aaa\n",
       "7,141  20201114  25900   0.66327             0.66328             0.66323             0.6632600000000001  31.25B  0.6632600000000001  0.663361abb  0.663533aab  0.663601aaa"
      ]
     },
     "execution_count": 6,
     "metadata": {},
     "output_type": "execute_result"
    }
   ],
   "source": [
    "%%time\n",
    "df"
   ]
  },
  {
   "cell_type": "markdown",
   "metadata": {
    "id": "HjQ6ffeGzIZY"
   },
   "source": [
    "* `Date` - Timestamp of the date of the trade of format `YYYYMMDD`.\n",
    "* `Time` - Timestamp of the trade of format centiseconds. For example, 30100 means that particular row was generated on the 301st second of that day -- 5 minutes and 1 second. We might need a separate function to make sense of this.\n",
    "* `Open` - Price of the forex which opens at the start of that timeframe.\n",
    "* `High` - Highest reached price of the forex at that timeframe.\n",
    "* `Low` - Lowest reached price of the forex at that timeframe.\n",
    "* `Close` - Price of the forex which opens at the start of that timeframe.\n",
    "* `RSI` - Relative Strength Index (RSI) is a measurement used by traders to assess the price momentum of a stock or other security. Any level below 30 is oversold, while an RSI of over 70 suggests the shares are overbought.\n",
    "* `SMA(1)` - Single moving average of 1 timeframe (100 centiseconds)\n",
    "* `SMA(12)` - Single moving average of 12 timeframes (1200 centiseconds)\n",
    "* `SMA(60)` - Single moving average of 60 timeframes (6000 centiseconds)\n",
    "* `SMA(200)` - Single moving average of 200 timeframes (20000 centiseconds)\n",
    "\n",
    "# 3. Data Cleaning\n",
    "\n",
    "We see that the last 3 columns have 3 alphabets appended behind the integers -- as well as the column `RSI` with 1 alphabet appended behind them. With this, we can't anyhow recognize them as numbers and `vaex` will recognize this as strings.\n",
    "\n",
    "We also need to combine the `Date` and `Time` together in a valid `datetime` type. To prove my point, let's print `df.info()` and see which ones are string and which ones are numbers."
   ]
  },
  {
   "cell_type": "code",
   "execution_count": 7,
   "metadata": {
    "colab": {
     "base_uri": "https://localhost:8080/",
     "height": 687
    },
    "id": "zea57anYjFHF",
    "outputId": "b3383c3a-5cdb-4ed9-f686-351246a6f52f"
   },
   "outputs": [
    {
     "data": {
      "text/html": [
       "<style>.vaex-description pre {\n",
       "          max-width : 450px;\n",
       "          white-space : nowrap;\n",
       "          overflow : hidden;\n",
       "          text-overflow: ellipsis;\n",
       "        }\n",
       "\n",
       "        .vex-description pre:hover {\n",
       "          max-width : initial;\n",
       "          white-space: pre;\n",
       "        }</style>"
      ],
      "text/plain": [
       "<IPython.core.display.HTML object>"
      ]
     },
     "metadata": {},
     "output_type": "display_data"
    },
    {
     "data": {
      "text/html": [
       "<div><h2>no-name</h2> <b>rows</b>: 7,142</div><h2>Columns:</h2><table class='table-striped'><thead><tr><th>column</th><th>type</th><th>unit</th><th>description</th><th>expression</th></tr></thead><tr><td>Date</td><td>int64</td><td></td><td ><pre></pre></td><td></td></tr><tr><td>Time</td><td>int64</td><td></td><td ><pre></pre></td><td></td></tr><tr><td>Open</td><td>float64</td><td></td><td ><pre></pre></td><td></td></tr><tr><td>High</td><td>float64</td><td></td><td ><pre></pre></td><td></td></tr><tr><td>Low</td><td>float64</td><td></td><td ><pre></pre></td><td></td></tr><tr><td>Close</td><td>float64</td><td></td><td ><pre></pre></td><td></td></tr><tr><td>RSI</td><td>str</td><td></td><td ><pre></pre></td><td></td></tr><tr><td>SMA(1)</td><td>float64</td><td></td><td ><pre></pre></td><td></td></tr><tr><td>SMA(12)</td><td>str</td><td></td><td ><pre></pre></td><td></td></tr><tr><td>SMA(60)</td><td>str</td><td></td><td ><pre></pre></td><td></td></tr><tr><td>SMA(200)</td><td>str</td><td></td><td ><pre></pre></td><td></td></tr></table><h2>Data:</h2><table>\n",
       "<thead>\n",
       "<tr><th>#                                </th><th>Date    </th><th>Time  </th><th>Open              </th><th>High              </th><th>Low               </th><th>Close             </th><th>RSI   </th><th>SMA(1)            </th><th>SMA(12)    </th><th>SMA(60)    </th><th>SMA(200)   </th></tr>\n",
       "</thead>\n",
       "<tbody>\n",
       "<tr><td><i style='opacity: 0.6'>0</i>    </td><td>20201109</td><td>30100 </td><td>0.65293           </td><td>0.65293           </td><td>0.65293           </td><td>0.65293           </td><td>0Bv   </td><td>0.65293           </td><td>0.652930bbb</td><td>0.652930bbb</td><td>0.652930bbb</td></tr>\n",
       "<tr><td><i style='opacity: 0.6'>1</i>    </td><td>20201109</td><td>30300 </td><td>0.65293           </td><td>0.65293           </td><td>0.65292           </td><td>0.65292           </td><td>0Bv   </td><td>0.65292           </td><td>0.652925abb</td><td>0.652925abb</td><td>0.652925abb</td></tr>\n",
       "<tr><td><i style='opacity: 0.6'>2</i>    </td><td>20201109</td><td>30400 </td><td>0.6530199999999999</td><td>0.6544300000000001</td><td>0.6530199999999999</td><td>0.65442           </td><td>0Bv   </td><td>0.65442           </td><td>0.653423bbb</td><td>0.653423bbb</td><td>0.653423bbb</td></tr>\n",
       "<tr><td><i style='opacity: 0.6'>3</i>    </td><td>20201109</td><td>30600 </td><td>0.6542100000000001</td><td>0.6543100000000001</td><td>0.6542100000000001</td><td>0.65425           </td><td>0Bv   </td><td>0.65425           </td><td>0.653630bbb</td><td>0.653630bbb</td><td>0.653630bbb</td></tr>\n",
       "<tr><td><i style='opacity: 0.6'>4</i>    </td><td>20201109</td><td>30700 </td><td>0.6542100000000001</td><td>0.65433           </td><td>0.65413           </td><td>0.65433           </td><td>0Bv   </td><td>0.65433           </td><td>0.653770bbb</td><td>0.653770bbb</td><td>0.653770bbb</td></tr>\n",
       "<tr><td>...                              </td><td>...     </td><td>...   </td><td>...               </td><td>...               </td><td>...               </td><td>...               </td><td>...   </td><td>...               </td><td>...        </td><td>...        </td><td>...        </td></tr>\n",
       "<tr><td><i style='opacity: 0.6'>7,137</i></td><td>20201114</td><td>25500 </td><td>0.6633899999999999</td><td>0.6634            </td><td>0.66328           </td><td>0.6632899999999999</td><td>31.41B</td><td>0.6632899999999999</td><td>0.663478abb</td><td>0.663568aab</td><td>0.663606aaa</td></tr>\n",
       "<tr><td><i style='opacity: 0.6'>7,138</i></td><td>20201114</td><td>25600 </td><td>0.6633            </td><td>0.6633100000000001</td><td>0.66322           </td><td>0.66327           </td><td>30.36B</td><td>0.66327           </td><td>0.663448abb</td><td>0.663561aab</td><td>0.663605aaa</td></tr>\n",
       "<tr><td><i style='opacity: 0.6'>7,139</i></td><td>20201114</td><td>25700 </td><td>0.66327           </td><td>0.6632899999999999</td><td>0.6632399999999999</td><td>0.66325           </td><td>29.3B </td><td>0.66325           </td><td>0.663411abb</td><td>0.663553aab</td><td>0.663604aaa</td></tr>\n",
       "<tr><td><i style='opacity: 0.6'>7,140</i></td><td>20201114</td><td>25800 </td><td>0.66325           </td><td>0.6632899999999999</td><td>0.66325           </td><td>0.66327           </td><td>31.86B</td><td>0.66327           </td><td>0.663385abb</td><td>0.663545aab</td><td>0.663602aaa</td></tr>\n",
       "<tr><td><i style='opacity: 0.6'>7,141</i></td><td>20201114</td><td>25900 </td><td>0.66327           </td><td>0.66328           </td><td>0.66323           </td><td>0.6632600000000001</td><td>31.25B</td><td>0.6632600000000001</td><td>0.663361abb</td><td>0.663533aab</td><td>0.663601aaa</td></tr>\n",
       "</tbody>\n",
       "</table>"
      ],
      "text/plain": [
       "<IPython.core.display.HTML object>"
      ]
     },
     "metadata": {},
     "output_type": "display_data"
    }
   ],
   "source": [
    "df.info()"
   ]
  },
  {
   "cell_type": "markdown",
   "metadata": {
    "id": "_LCNyC7W5tZM"
   },
   "source": [
    "## 3.1. Alphabet Slicing"
   ]
  },
  {
   "cell_type": "code",
   "execution_count": 8,
   "metadata": {
    "colab": {
     "base_uri": "https://localhost:8080/"
    },
    "id": "dFtGvIji05gU",
    "outputId": "c9d7e2f7-fbd1-4cd2-84be-1bae87c3861c"
   },
   "outputs": [
    {
     "name": "stdout",
     "output_type": "stream",
     "text": [
      "CPU times: user 4.1 ms, sys: 9 µs, total: 4.11 ms\n",
      "Wall time: 6.1 ms\n"
     ]
    }
   ],
   "source": [
    "%%time\n",
    "df['SMA(200)'] = df['SMA(200)'].apply(lambda x: float(x[:-3]))\n",
    "df['SMA(60)'] = df['SMA(60)'].apply(lambda x: float(x[:-3]))\n",
    "df['SMA(12)'] = df['SMA(12)'].apply(lambda x: float(x[:-3]))"
   ]
  },
  {
   "cell_type": "markdown",
   "metadata": {
    "id": "oaW2XFcgAmWt"
   },
   "source": [
    "For some reason the `extract_regex()` function from the [documentation](https://vaex.io/docs/api.html) didn't work as intended. I tried using the method and it raised:\n",
    "```python\n",
    "AttributeError: 'Expression' object has no attribute 'extract_regex'\n",
    "```\n",
    "In this manner, I'm left no choice but to use the standard `re` package to find all float values from a given string."
   ]
  },
  {
   "cell_type": "code",
   "execution_count": 9,
   "metadata": {
    "colab": {
     "base_uri": "https://localhost:8080/",
     "height": 308
    },
    "id": "oHweCukC-Xq4",
    "outputId": "fb83bf19-4ea1-4779-e0b6-792829244900"
   },
   "outputs": [
    {
     "name": "stdout",
     "output_type": "stream",
     "text": [
      "CPU times: user 719 µs, sys: 0 ns, total: 719 µs\n",
      "Wall time: 694 µs\n"
     ]
    },
    {
     "data": {
      "text/html": [
       "<table>\n",
       "<thead>\n",
       "<tr><th>#                                </th><th>Date    </th><th>Time  </th><th>Open              </th><th>High              </th><th>Low               </th><th>Close             </th><th>RSI  </th><th>SMA(1)            </th><th>SMA(12)  </th><th>SMA(60)  </th><th>SMA(200)  </th></tr>\n",
       "</thead>\n",
       "<tbody>\n",
       "<tr><td><i style='opacity: 0.6'>0</i>    </td><td>20201109</td><td>30100 </td><td>0.65293           </td><td>0.65293           </td><td>0.65293           </td><td>0.65293           </td><td>0.0  </td><td>0.65293           </td><td>0.65293  </td><td>0.65293  </td><td>0.65293   </td></tr>\n",
       "<tr><td><i style='opacity: 0.6'>1</i>    </td><td>20201109</td><td>30300 </td><td>0.65293           </td><td>0.65293           </td><td>0.65292           </td><td>0.65292           </td><td>0.0  </td><td>0.65292           </td><td>0.652925 </td><td>0.652925 </td><td>0.652925  </td></tr>\n",
       "<tr><td><i style='opacity: 0.6'>2</i>    </td><td>20201109</td><td>30400 </td><td>0.6530199999999999</td><td>0.6544300000000001</td><td>0.6530199999999999</td><td>0.65442           </td><td>0.0  </td><td>0.65442           </td><td>0.653423 </td><td>0.653423 </td><td>0.653423  </td></tr>\n",
       "<tr><td><i style='opacity: 0.6'>3</i>    </td><td>20201109</td><td>30600 </td><td>0.6542100000000001</td><td>0.6543100000000001</td><td>0.6542100000000001</td><td>0.65425           </td><td>0.0  </td><td>0.65425           </td><td>0.65363  </td><td>0.65363  </td><td>0.65363   </td></tr>\n",
       "<tr><td><i style='opacity: 0.6'>4</i>    </td><td>20201109</td><td>30700 </td><td>0.6542100000000001</td><td>0.65433           </td><td>0.65413           </td><td>0.65433           </td><td>0.0  </td><td>0.65433           </td><td>0.65377  </td><td>0.65377  </td><td>0.65377   </td></tr>\n",
       "<tr><td>...                              </td><td>...     </td><td>...   </td><td>...               </td><td>...               </td><td>...               </td><td>...               </td><td>...  </td><td>...               </td><td>...      </td><td>...      </td><td>...       </td></tr>\n",
       "<tr><td><i style='opacity: 0.6'>7,137</i></td><td>20201114</td><td>25500 </td><td>0.6633899999999999</td><td>0.6634            </td><td>0.66328           </td><td>0.6632899999999999</td><td>31.41</td><td>0.6632899999999999</td><td>0.663478 </td><td>0.663568 </td><td>0.663606  </td></tr>\n",
       "<tr><td><i style='opacity: 0.6'>7,138</i></td><td>20201114</td><td>25600 </td><td>0.6633            </td><td>0.6633100000000001</td><td>0.66322           </td><td>0.66327           </td><td>30.36</td><td>0.66327           </td><td>0.663448 </td><td>0.663561 </td><td>0.663605  </td></tr>\n",
       "<tr><td><i style='opacity: 0.6'>7,139</i></td><td>20201114</td><td>25700 </td><td>0.66327           </td><td>0.6632899999999999</td><td>0.6632399999999999</td><td>0.66325           </td><td>29.3 </td><td>0.66325           </td><td>0.663411 </td><td>0.663553 </td><td>0.663604  </td></tr>\n",
       "<tr><td><i style='opacity: 0.6'>7,140</i></td><td>20201114</td><td>25800 </td><td>0.66325           </td><td>0.6632899999999999</td><td>0.66325           </td><td>0.66327           </td><td>31.86</td><td>0.66327           </td><td>0.663385 </td><td>0.663545 </td><td>0.663602  </td></tr>\n",
       "<tr><td><i style='opacity: 0.6'>7,141</i></td><td>20201114</td><td>25900 </td><td>0.66327           </td><td>0.66328           </td><td>0.66323           </td><td>0.6632600000000001</td><td>31.25</td><td>0.6632600000000001</td><td>0.663361 </td><td>0.663533 </td><td>0.663601  </td></tr>\n",
       "</tbody>\n",
       "</table>"
      ],
      "text/plain": [
       "#      Date      Time    Open                High                Low                 Close               RSI    SMA(1)              SMA(12)    SMA(60)    SMA(200)\n",
       "0      20201109  30100   0.65293             0.65293             0.65293             0.65293             0.0    0.65293             0.65293    0.65293    0.65293\n",
       "1      20201109  30300   0.65293             0.65293             0.65292             0.65292             0.0    0.65292             0.652925   0.652925   0.652925\n",
       "2      20201109  30400   0.6530199999999999  0.6544300000000001  0.6530199999999999  0.65442             0.0    0.65442             0.653423   0.653423   0.653423\n",
       "3      20201109  30600   0.6542100000000001  0.6543100000000001  0.6542100000000001  0.65425             0.0    0.65425             0.65363    0.65363    0.65363\n",
       "4      20201109  30700   0.6542100000000001  0.65433             0.65413             0.65433             0.0    0.65433             0.65377    0.65377    0.65377\n",
       "...    ...       ...     ...                 ...                 ...                 ...                 ...    ...                 ...        ...        ...\n",
       "7,137  20201114  25500   0.6633899999999999  0.6634              0.66328             0.6632899999999999  31.41  0.6632899999999999  0.663478   0.663568   0.663606\n",
       "7,138  20201114  25600   0.6633              0.6633100000000001  0.66322             0.66327             30.36  0.66327             0.663448   0.663561   0.663605\n",
       "7,139  20201114  25700   0.66327             0.6632899999999999  0.6632399999999999  0.66325             29.3   0.66325             0.663411   0.663553   0.663604\n",
       "7,140  20201114  25800   0.66325             0.6632899999999999  0.66325             0.66327             31.86  0.66327             0.663385   0.663545   0.663602\n",
       "7,141  20201114  25900   0.66327             0.66328             0.66323             0.6632600000000001  31.25  0.6632600000000001  0.663361   0.663533   0.663601"
      ]
     },
     "execution_count": 9,
     "metadata": {},
     "output_type": "execute_result"
    }
   ],
   "source": [
    "%%time\n",
    "import re\n",
    "df['RSI'] = df['RSI'].apply(lambda x: float(re.findall(r\"(?<![a-zA-Z:])[-+]?\\d*\\.?\\d+\", x)[0]))\n",
    "\n",
    "df # The dataset looks like this now..."
   ]
  },
  {
   "cell_type": "markdown",
   "metadata": {
    "id": "rMFmqo-OBPlA"
   },
   "source": [
    "## 3.2. `Datetime` Conversion\n",
    "\n",
    "We now should convert the `time` column to hours/minutes using the `datetime` standard library, before finally integrating it to the `Date` column."
   ]
  },
  {
   "cell_type": "code",
   "execution_count": 10,
   "metadata": {
    "id": "mUXPjSZE_AAI"
   },
   "outputs": [],
   "source": [
    "from datetime import date, datetime, time, timedelta\n",
    "import numpy as np"
   ]
  },
  {
   "cell_type": "markdown",
   "metadata": {
    "id": "_SBJ7OYeOr0Y"
   },
   "source": [
    "We first transform `string` objects to `datetime` or `timedelta` objects."
   ]
  },
  {
   "cell_type": "code",
   "execution_count": 11,
   "metadata": {
    "colab": {
     "base_uri": "https://localhost:8080/"
    },
    "id": "rD2XLJpPEuIa",
    "outputId": "c03a63ab-b545-405b-be9b-08707dae4eca"
   },
   "outputs": [
    {
     "name": "stdout",
     "output_type": "stream",
     "text": [
      "CPU times: user 1.28 ms, sys: 934 µs, total: 2.21 ms\n",
      "Wall time: 2.23 ms\n"
     ]
    }
   ],
   "source": [
    "%%time\n",
    "df['Time'] = df['Time'].apply(lambda x: np.timedelta64(timedelta(seconds=(x/100))))\n",
    "df['Date'] = df['Date'].apply(lambda x:\n",
    "                              np.array(\n",
    "                              datetime.strptime(str(x), \"%Y%m%d\"),\n",
    "                              dtype=np.datetime64))"
   ]
  },
  {
   "cell_type": "code",
   "execution_count": 12,
   "metadata": {
    "colab": {
     "base_uri": "https://localhost:8080/",
     "height": 308
    },
    "id": "7Iz1PWgEOOkE",
    "outputId": "95dd1323-5979-4962-be1f-03968242a431"
   },
   "outputs": [
    {
     "name": "stdout",
     "output_type": "stream",
     "text": [
      "CPU times: user 12.8 ms, sys: 3.15 ms, total: 16 ms\n",
      "Wall time: 17.3 ms\n"
     ]
    },
    {
     "data": {
      "text/html": [
       "<table>\n",
       "<thead>\n",
       "<tr><th>#                                </th><th>Date                      </th><th>Open              </th><th>High              </th><th>Low               </th><th>Close             </th><th>RSI  </th><th>SMA(1)            </th><th>SMA(12)  </th><th>SMA(60)  </th><th>SMA(200)  </th></tr>\n",
       "</thead>\n",
       "<tbody>\n",
       "<tr><td><i style='opacity: 0.6'>0</i>    </td><td>2020-11-09 00:05:01.000000</td><td>0.65293           </td><td>0.65293           </td><td>0.65293           </td><td>0.65293           </td><td>0.0  </td><td>0.65293           </td><td>0.65293  </td><td>0.65293  </td><td>0.65293   </td></tr>\n",
       "<tr><td><i style='opacity: 0.6'>1</i>    </td><td>2020-11-09 00:05:03.000000</td><td>0.65293           </td><td>0.65293           </td><td>0.65292           </td><td>0.65292           </td><td>0.0  </td><td>0.65292           </td><td>0.652925 </td><td>0.652925 </td><td>0.652925  </td></tr>\n",
       "<tr><td><i style='opacity: 0.6'>2</i>    </td><td>2020-11-09 00:05:04.000000</td><td>0.6530199999999999</td><td>0.6544300000000001</td><td>0.6530199999999999</td><td>0.65442           </td><td>0.0  </td><td>0.65442           </td><td>0.653423 </td><td>0.653423 </td><td>0.653423  </td></tr>\n",
       "<tr><td><i style='opacity: 0.6'>3</i>    </td><td>2020-11-09 00:05:06.000000</td><td>0.6542100000000001</td><td>0.6543100000000001</td><td>0.6542100000000001</td><td>0.65425           </td><td>0.0  </td><td>0.65425           </td><td>0.65363  </td><td>0.65363  </td><td>0.65363   </td></tr>\n",
       "<tr><td><i style='opacity: 0.6'>4</i>    </td><td>2020-11-09 00:05:07.000000</td><td>0.6542100000000001</td><td>0.65433           </td><td>0.65413           </td><td>0.65433           </td><td>0.0  </td><td>0.65433           </td><td>0.65377  </td><td>0.65377  </td><td>0.65377   </td></tr>\n",
       "<tr><td>...                              </td><td>...                       </td><td>...               </td><td>...               </td><td>...               </td><td>...               </td><td>...  </td><td>...               </td><td>...      </td><td>...      </td><td>...       </td></tr>\n",
       "<tr><td><i style='opacity: 0.6'>7,137</i></td><td>2020-11-14 00:04:15.000000</td><td>0.6633899999999999</td><td>0.6634            </td><td>0.66328           </td><td>0.6632899999999999</td><td>31.41</td><td>0.6632899999999999</td><td>0.663478 </td><td>0.663568 </td><td>0.663606  </td></tr>\n",
       "<tr><td><i style='opacity: 0.6'>7,138</i></td><td>2020-11-14 00:04:16.000000</td><td>0.6633            </td><td>0.6633100000000001</td><td>0.66322           </td><td>0.66327           </td><td>30.36</td><td>0.66327           </td><td>0.663448 </td><td>0.663561 </td><td>0.663605  </td></tr>\n",
       "<tr><td><i style='opacity: 0.6'>7,139</i></td><td>2020-11-14 00:04:17.000000</td><td>0.66327           </td><td>0.6632899999999999</td><td>0.6632399999999999</td><td>0.66325           </td><td>29.3 </td><td>0.66325           </td><td>0.663411 </td><td>0.663553 </td><td>0.663604  </td></tr>\n",
       "<tr><td><i style='opacity: 0.6'>7,140</i></td><td>2020-11-14 00:04:18.000000</td><td>0.66325           </td><td>0.6632899999999999</td><td>0.66325           </td><td>0.66327           </td><td>31.86</td><td>0.66327           </td><td>0.663385 </td><td>0.663545 </td><td>0.663602  </td></tr>\n",
       "<tr><td><i style='opacity: 0.6'>7,141</i></td><td>2020-11-14 00:04:19.000000</td><td>0.66327           </td><td>0.66328           </td><td>0.66323           </td><td>0.6632600000000001</td><td>31.25</td><td>0.6632600000000001</td><td>0.663361 </td><td>0.663533 </td><td>0.663601  </td></tr>\n",
       "</tbody>\n",
       "</table>"
      ],
      "text/plain": [
       "#      Date                        Open                High                Low                 Close               RSI    SMA(1)              SMA(12)    SMA(60)    SMA(200)\n",
       "0      2020-11-09 00:05:01.000000  0.65293             0.65293             0.65293             0.65293             0.0    0.65293             0.65293    0.65293    0.65293\n",
       "1      2020-11-09 00:05:03.000000  0.65293             0.65293             0.65292             0.65292             0.0    0.65292             0.652925   0.652925   0.652925\n",
       "2      2020-11-09 00:05:04.000000  0.6530199999999999  0.6544300000000001  0.6530199999999999  0.65442             0.0    0.65442             0.653423   0.653423   0.653423\n",
       "3      2020-11-09 00:05:06.000000  0.6542100000000001  0.6543100000000001  0.6542100000000001  0.65425             0.0    0.65425             0.65363    0.65363    0.65363\n",
       "4      2020-11-09 00:05:07.000000  0.6542100000000001  0.65433             0.65413             0.65433             0.0    0.65433             0.65377    0.65377    0.65377\n",
       "...    ...                         ...                 ...                 ...                 ...                 ...    ...                 ...        ...        ...\n",
       "7,137  2020-11-14 00:04:15.000000  0.6633899999999999  0.6634              0.66328             0.6632899999999999  31.41  0.6632899999999999  0.663478   0.663568   0.663606\n",
       "7,138  2020-11-14 00:04:16.000000  0.6633              0.6633100000000001  0.66322             0.66327             30.36  0.66327             0.663448   0.663561   0.663605\n",
       "7,139  2020-11-14 00:04:17.000000  0.66327             0.6632899999999999  0.6632399999999999  0.66325             29.3   0.66325             0.663411   0.663553   0.663604\n",
       "7,140  2020-11-14 00:04:18.000000  0.66325             0.6632899999999999  0.66325             0.66327             31.86  0.66327             0.663385   0.663545   0.663602\n",
       "7,141  2020-11-14 00:04:19.000000  0.66327             0.66328             0.66323             0.6632600000000001  31.25  0.6632600000000001  0.663361   0.663533   0.663601"
      ]
     },
     "execution_count": 12,
     "metadata": {},
     "output_type": "execute_result"
    }
   ],
   "source": [
    "%%time\n",
    "df['Date'] = df.Date + df.Time\n",
    "df = df.drop(columns=['Time'])\n",
    "df # Display the clean data"
   ]
  },
  {
   "cell_type": "markdown",
   "metadata": {
    "id": "uWgiOQ7aoizN"
   },
   "source": [
    "The issue is that with our current data, we don't have any volume data to calculate `vwap` (volume weighted average price) -- so I think this particular variable can be changed to `SMA(200)` instead to facilitate average prices within the maximum range.\n",
    "\n",
    "We can also drop unrepresentative columns that are not in the sample dataset used to provide shape consistency: `RSI`, `SMA(1)`, `SMA(12)` and `SMA(60)`."
   ]
  },
  {
   "cell_type": "code",
   "execution_count": 13,
   "metadata": {
    "colab": {
     "base_uri": "https://localhost:8080/",
     "height": 272
    },
    "id": "RcwiAO8Qw0O_",
    "outputId": "b2aed05c-e803-4657-d098-46459affa127"
   },
   "outputs": [
    {
     "data": {
      "text/html": [
       "<table>\n",
       "<thead>\n",
       "<tr><th>#                                </th><th>timestamp                 </th><th>open              </th><th>high              </th><th>low               </th><th>close             </th><th>vwap    </th><th>volume  </th><th>symbol  </th></tr>\n",
       "</thead>\n",
       "<tbody>\n",
       "<tr><td><i style='opacity: 0.6'>0</i>    </td><td>2020-11-09 00:05:01.000000</td><td>0.65293           </td><td>0.65293           </td><td>0.65293           </td><td>0.65293           </td><td>0.65293 </td><td>261.172 </td><td>XBTUSD  </td></tr>\n",
       "<tr><td><i style='opacity: 0.6'>1</i>    </td><td>2020-11-09 00:05:03.000000</td><td>0.65293           </td><td>0.65293           </td><td>0.65292           </td><td>0.65292           </td><td>0.652925</td><td>261.17  </td><td>XBTUSD  </td></tr>\n",
       "<tr><td><i style='opacity: 0.6'>2</i>    </td><td>2020-11-09 00:05:04.000000</td><td>0.6530199999999999</td><td>0.6544300000000001</td><td>0.6530199999999999</td><td>0.65442           </td><td>0.653423</td><td>261.3692</td><td>XBTUSD  </td></tr>\n",
       "<tr><td><i style='opacity: 0.6'>3</i>    </td><td>2020-11-09 00:05:06.000000</td><td>0.6542100000000001</td><td>0.6543100000000001</td><td>0.6542100000000001</td><td>0.65425           </td><td>0.65363 </td><td>261.452 </td><td>XBTUSD  </td></tr>\n",
       "<tr><td><i style='opacity: 0.6'>4</i>    </td><td>2020-11-09 00:05:07.000000</td><td>0.6542100000000001</td><td>0.65433           </td><td>0.65413           </td><td>0.65433           </td><td>0.65377 </td><td>261.508 </td><td>XBTUSD  </td></tr>\n",
       "<tr><td>...                              </td><td>...                       </td><td>...               </td><td>...               </td><td>...               </td><td>...               </td><td>...     </td><td>...     </td><td>...     </td></tr>\n",
       "<tr><td><i style='opacity: 0.6'>7,137</i></td><td>2020-11-14 00:04:15.000000</td><td>0.6633899999999999</td><td>0.6634            </td><td>0.66328           </td><td>0.6632899999999999</td><td>0.663606</td><td>265.4424</td><td>XBTUSD  </td></tr>\n",
       "<tr><td><i style='opacity: 0.6'>7,138</i></td><td>2020-11-14 00:04:16.000000</td><td>0.6633            </td><td>0.6633100000000001</td><td>0.66322           </td><td>0.66327           </td><td>0.663605</td><td>265.442 </td><td>XBTUSD  </td></tr>\n",
       "<tr><td><i style='opacity: 0.6'>7,139</i></td><td>2020-11-14 00:04:17.000000</td><td>0.66327           </td><td>0.6632899999999999</td><td>0.6632399999999999</td><td>0.66325           </td><td>0.663604</td><td>265.4416</td><td>XBTUSD  </td></tr>\n",
       "<tr><td><i style='opacity: 0.6'>7,140</i></td><td>2020-11-14 00:04:18.000000</td><td>0.66325           </td><td>0.6632899999999999</td><td>0.66325           </td><td>0.66327           </td><td>0.663602</td><td>265.4408</td><td>XBTUSD  </td></tr>\n",
       "<tr><td><i style='opacity: 0.6'>7,141</i></td><td>2020-11-14 00:04:19.000000</td><td>0.66327           </td><td>0.66328           </td><td>0.66323           </td><td>0.6632600000000001</td><td>0.663601</td><td>265.4404</td><td>XBTUSD  </td></tr>\n",
       "</tbody>\n",
       "</table>"
      ],
      "text/plain": [
       "#      timestamp                   open                high                low                 close               vwap      volume    symbol\n",
       "0      2020-11-09 00:05:01.000000  0.65293             0.65293             0.65293             0.65293             0.65293   261.172   XBTUSD\n",
       "1      2020-11-09 00:05:03.000000  0.65293             0.65293             0.65292             0.65292             0.652925  261.17    XBTUSD\n",
       "2      2020-11-09 00:05:04.000000  0.6530199999999999  0.6544300000000001  0.6530199999999999  0.65442             0.653423  261.3692  XBTUSD\n",
       "3      2020-11-09 00:05:06.000000  0.6542100000000001  0.6543100000000001  0.6542100000000001  0.65425             0.65363   261.452   XBTUSD\n",
       "4      2020-11-09 00:05:07.000000  0.6542100000000001  0.65433             0.65413             0.65433             0.65377   261.508   XBTUSD\n",
       "...    ...                         ...                 ...                 ...                 ...                 ...       ...       ...\n",
       "7,137  2020-11-14 00:04:15.000000  0.6633899999999999  0.6634              0.66328             0.6632899999999999  0.663606  265.4424  XBTUSD\n",
       "7,138  2020-11-14 00:04:16.000000  0.6633              0.6633100000000001  0.66322             0.66327             0.663605  265.442   XBTUSD\n",
       "7,139  2020-11-14 00:04:17.000000  0.66327             0.6632899999999999  0.6632399999999999  0.66325             0.663604  265.4416  XBTUSD\n",
       "7,140  2020-11-14 00:04:18.000000  0.66325             0.6632899999999999  0.66325             0.66327             0.663602  265.4408  XBTUSD\n",
       "7,141  2020-11-14 00:04:19.000000  0.66327             0.66328             0.66323             0.6632600000000001  0.663601  265.4404  XBTUSD"
      ]
     },
     "execution_count": 13,
     "metadata": {},
     "output_type": "execute_result"
    }
   ],
   "source": [
    "# Basically reshaping the data to take the form of the sample in the Github\n",
    "df = df.drop(columns = ['RSI', 'SMA(1)', 'SMA(12)', 'SMA(60)'])\n",
    "df.rename('SMA(200)', 'vwap')\n",
    "df.rename('Open', 'open')\n",
    "df.rename('High', 'high')\n",
    "df.rename('Low', 'low')\n",
    "df.rename('Close', 'close')\n",
    "df.rename('Date', 'timestamp')\n",
    "df['volume'] = df['vwap'] * 400 # Sample volume\n",
    "to_insert = 'XBTUSD'\n",
    "df['symbol'] = np.repeat(to_insert, len(df))\n",
    "df"
   ]
  },
  {
   "cell_type": "code",
   "execution_count": null,
   "metadata": {
    "colab": {
     "base_uri": "https://localhost:8080/",
     "height": 627
    },
    "id": "30Dl_qR6Eqvo",
    "outputId": "9a49767f-968e-4f56-d76f-ce80c508316e"
   },
   "outputs": [],
   "source": [
    "df.info()"
   ]
  },
  {
   "cell_type": "markdown",
   "metadata": {
    "id": "v8MPRH-_FWUM"
   },
   "source": [
    "## 3.3. Exporting onto .hdf5\n",
    "We export to either .csv or HDF5 object, before we configure an environment where the data is split onto training and test files as done in the sample."
   ]
  },
  {
   "cell_type": "code",
   "execution_count": 15,
   "metadata": {
    "id": "ao_RX5RCF3e0"
   },
   "outputs": [],
   "source": [
    "train = df.sample(frac=0.7)\n",
    "train.export_csv('./deep_rl_trader/main/real_data/train/train.csv')\n",
    "#train.export_hdf5('./deep_rl_trader/main/real_data/train/train.hdf5')"
   ]
  },
  {
   "cell_type": "code",
   "execution_count": 17,
   "metadata": {
    "id": "Jzsg-NdEGWhy"
   },
   "outputs": [],
   "source": [
    "test = df.sample(frac=0.3)\n",
    "test.export_csv('./deep_rl_trader/main/real_data/test/test.csv')\n",
    "#test.export_hdf5('./deep_rl_trader/main/real_data/test/test.hdf5')"
   ]
  },
  {
   "cell_type": "markdown",
   "metadata": {
    "id": "4PRj-nTQPiLp"
   },
   "source": [
    "# 4. Plugging the Model\n",
    "Issues and changes to the original implementation:\n",
    "1. A lot of inconsistencies in the `requirements.txt` file in which some modules cannot be imported. For instance, `anaconda_client==1.6.0` is not available. Therefore, installing requirements via `pip install -r requirements.txt` is strongly advised against. Instead, call:\n",
    "```\n",
    "!cat deep_rl_trader/requirements.txt | xargs -n 1 pip install\n",
    "```\n",
    "2. The package `talib` does not provide easy installation via `pip`. This will return:\n",
    "```\n",
    "Failed building wheel for TA-Lib #4245\n",
    "```\n",
    "So that we need to first download the `.tar.bz2` file in the environment -- and configure `numpy` to take at **least** version `1.20.00`. Otherwise, `talib` will return:\n",
    "```\n",
    "ValueError: numpy.ndarray size changed, may indicate binary incompatibility. Expected 88 from C header, got 80 from PyObject\n",
    "```\n",
    "This is yet another reason not to install directly from `requirements.txt` as some of the packages are either obsolete, deprecated of their functionality, or both 🥵\n",
    "3. Install `Keras`, not `keras`, with:\n",
    "```\n",
    "!pip install Keras==2.1.2\n",
    "!pip install keras-rl==0.4.2\n",
    "```\n",
    "The version used in this model is way different than the one integrated with Google Colab -- figures since the repo was last updated in 2018.\n",
    "4. `pandas.stats` in the file `ta.py` was deprecated, so in return, we change all occurences of `moments` with `pd` and delete the line where we import `pandas.stats`.\n",
    "5. `data/train` and `data/test` on `main()` was changed to read as a subfolder of `deep_rl_trader`. As well as the `info` and `model` subfolders.\n",
    "6. Again, I think that the version used is obsolete and doesn't support old methods. Running the script provides:\n",
    "```python\n",
    "AttributeError: module 'tensorflow' has no attribute 'get_default_graph'\n",
    "```\n",
    "A bit of Googling and it turns out that we should import the model from `tensorflow` and not `keras`. We have to have a perfect environment for the whole thing to work -- that means downgrading the existing tensorflow integration:\n",
    "```\n",
    "%tensorflow_version 1.14.0\n",
    "```\n",
    "Or install the required version:\n",
    "```\n",
    "!pip install tensorflow==1.14.0\n",
    "```\n",
    "7. The original `create_model()` function does not return the `model` object -- so when initializing it, the script returns:\n",
    "```\n",
    "AttributeError: 'NoneType' object has no attribute 'summary'\n",
    "```\n",
    "One way to fix this was to return `model` at the end of the function.\n",
    "8. Updating the `core.py` file in:\n",
    "```\n",
    "/usr/local/lib/python3.7/dist-packages/rl/\n",
    "```\n",
    "To the one within:\n",
    "```\n",
    "/content/main/deep_rl_trader/modified_keras_rl_core/\n",
    "```\n",
    "Seems to fix [this](https://github.com/miroblog/deep_rl_trader/issues/2) issue.\n",
    "9. Again, compatibility issue. Using `CuDNNLSTM` returns a vague error:\n",
    "```\n",
    "Errors may have originated from an input operation. Input Source operations connected to node cu_dnnlstm_1/CudnnRNN\n",
    "```\n",
    "This is maybe because TensorFlow automatically configures standard off-the-shelf LSTM to be CuDNNLSTM unless specified otherwise. So, the main functional layer(s) should be only `keras.layers.LSTM` instead of `keras.layers.CuDNNLSTM`.\n",
    "\n",
    "10. Final changes made to take in `hdf5` format on the `TraderEnv.py` file within class method `OhlcvEnv.load_from_csv()` to maximize Vaex performance. Whilst the method still says `load_from_csv()`, the workings inside are loading `hdf5`. Why didn't I change the method name altogether? I'm afraid it'll mess with the `main()` method and some other method I don't know about.\n",
    "\n",
    "11. Specified `nb_steps=10000` and `nb_max_episode_steps=10000` when fitting the model in `ddqn_rl_trader.py` as per John's request to facilitate 10000 epochs.\n",
    "\n",
    "**Note to self: Change the respective `.py` files to the one I changed manually on local machine** "
   ]
  },
  {
   "cell_type": "code",
   "execution_count": null,
   "metadata": {
    "colab": {
     "base_uri": "https://localhost:8080/",
     "height": 1000
    },
    "id": "8YPwvn0Rbga-",
    "outputId": "d6700ec5-efe0-41cf-c915-e571ddc602f6"
   },
   "outputs": [],
   "source": [
    "# Run this entire cell to import packages without setup.\n",
    "!pip install tensorflow==1.14.0\n",
    "!pip uninstall numpy\n",
    "!pip install numpy==1.20.00\n",
    "!pip install Keras==2.1.2\n",
    "!pip install keras-rl==0.4.2\n",
    "url = 'https://anaconda.org/conda-forge/libta-lib/0.4.0/download/linux-64/libta-lib-0.4.0-h516909a_0.tar.bz2'\n",
    "!curl -L $url | tar xj -C /usr/lib/x86_64-linux-gnu/ lib --strip-components=1\n",
    "url = 'https://anaconda.org/conda-forge/ta-lib/0.4.19/download/linux-64/ta-lib-0.4.19-py37ha21ca33_2.tar.bz2'\n",
    "!curl -L $url | tar xj -C /usr/local/lib/python3.7/dist-packages/ lib/python3.7/site-packages/talib --strip-components=3\n",
    "import talib"
   ]
  },
  {
   "cell_type": "code",
   "execution_count": null,
   "metadata": {
    "colab": {
     "base_uri": "https://localhost:8080/"
    },
    "id": "kRHnXp_nbvJM",
    "outputId": "8e7400bd-71ac-4db6-98b8-a41990f7fb6b"
   },
   "outputs": [],
   "source": [
    "import tensorflow.compat.v1 as tf\n",
    "!python deep_rl_trader/main/ddqn_rl_trader.py"
   ]
  },
  {
   "cell_type": "markdown",
   "metadata": {
    "id": "I_S1xXxYiDur"
   },
   "source": [
    "# 5. Visualization \n",
    "\n",
    "Visualization implements the same wrapper function(s) as the one in `visualize_trade.py` on the main repository. However, I added `plt.figure(figsize=(12,15))` to better visualize the ups and downs of the model.\n",
    "\n",
    "For the record, red means sell, and green means buy."
   ]
  },
  {
   "cell_type": "code",
   "execution_count": null,
   "metadata": {
    "colab": {
     "base_uri": "https://localhost:8080/",
     "height": 700
    },
    "id": "2-2h-Xfb3Ftq",
    "outputId": "9829848a-a789-4ac6-98db-eb6b091874ef"
   },
   "outputs": [
    {
     "data": {
      "image/png": "[encoded data removed]",
      "text/plain": [
       "<Figure size 1080x864 with 1 Axes>"
      ]
     },
     "metadata": {
      "needs_background": "light"
     },
     "output_type": "display_data"
    }
   ],
   "source": [
    "# Visualization\n",
    "import glob\n",
    "import os\n",
    "import numpy as np\n",
    "import matplotlib.pyplot as plt\n",
    "import time\n",
    "\n",
    "def show_mdd(xs): # xs is cumulative return / portfolio , if reward u should\n",
    "    # xs = df['reward'].cumsum() / if reward\n",
    "    i = np.argmax(np.maximum.accumulate(xs) - xs) # end of the period\n",
    "    j = np.argmax(xs[:i]) # start of period\n",
    "    plt.figure(figsize=(12,15))\n",
    "    plt.plot(xs)\n",
    "    plt.plot([i, j], [xs[i], xs[j]], 'o', color='Red', markersize=10)\n",
    "    plt.show()\n",
    "\n",
    "def visualize(info):\n",
    "    closes = [data[2] for data in info['history']]\n",
    "    closes_index = [data[1] for data in info['history']]\n",
    "    # buy tick\n",
    "    buy_tick = np.array([data[1] for data in info['history'] if data[0] == 0])\n",
    "    buy_price = np.array([data[2] for data in info['history'] if data[0] == 0])\n",
    "    sell_tick = np.array([data[1] for data in info['history'] if data[0] == 1])\n",
    "    sell_price = np.array([data[2] for data in info['history'] if data[0] == 1])\n",
    "\n",
    "    plt.figure(figsize=(15,12))\n",
    "    plt.plot(closes_index, closes)\n",
    "    plt.scatter(buy_tick, buy_price - 2, c='g', marker=\"^\", s=20)\n",
    "    plt.scatter(sell_tick, sell_price + 2, c='r', marker=\"v\", s=20)\n",
    "    plt.show(block=True)\n",
    "    time.sleep(3)\n",
    "\n",
    "def get_file(dir):\n",
    "  list_of_files = glob.glob(dir+'*') # * means all if need specific format then *.csv\n",
    "  latest_file = max(list_of_files, key=os.path.getctime)\n",
    "  return str(latest_file)\n",
    "\n",
    "FILENAME = get_file('./deep_rl_trader/main/info/')\n",
    "info = np.load(FILENAME, allow_pickle=True).all()\n",
    "visualize(info)"
   ]
  },
  {
   "cell_type": "markdown",
   "metadata": {
    "id": "AOU51OtUi3_W"
   },
   "source": [
    "# 5. Results\n",
    "The results are in! We ran the code for 2 episodes, each episode consisting of 10000 epochs each (as mentioned in 3 point 11.)\n",
    "\n",
    "First episode:\n",
    "* Runtime: **33.026 seconds**\n",
    "* Entry: 1,000,000 KRW (838.69 USD)\n",
    "* Exit: 2,642,730 KRW (2,223.37 USD)\n",
    "* Percentage profit: 264.273% (2.64 fold)\n",
    "* Net profit: 1,642,730 KRW (1,382.05 USD)\n",
    "\n",
    "Second episode:\n",
    "* Runtime: **28.662 seconds**\n",
    "* Entry: 1,000,000 KRW (838.69 USD)\n",
    "* Exit: 8,265,654.74 KRW (6,932.36 USD)\n",
    "* Percentage profit: 826.56% (8.2656 fold)\n",
    "* Net profit: 7,265,654.74 KRW (6,109.96 USD)"
   ]
  }
 ],
 "metadata": {
  "accelerator": "GPU",
  "colab": {
   "collapsed_sections": [],
   "name": "vaex_ml_forex",
   "provenance": []
  },
  "kernelspec": {
   "display_name": "Python 3",
   "language": "python",
   "name": "python3"
  },
  "language_info": {
   "codemirror_mode": {
    "name": "ipython",
    "version": 3
   },
   "file_extension": ".py",
   "mimetype": "text/x-python",
   "name": "python",
   "nbconvert_exporter": "python",
   "pygments_lexer": "ipython3",
   "version": "3.8.8"
  }
 },
 "nbformat": 4,
 "nbformat_minor": 1
}
